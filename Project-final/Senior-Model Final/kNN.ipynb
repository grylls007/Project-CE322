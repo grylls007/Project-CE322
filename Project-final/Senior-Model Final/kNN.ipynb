{
 "cells": [
  {
   "cell_type": "code",
   "execution_count": 1,
   "id": "75e250de",
   "metadata": {},
   "outputs": [],
   "source": [
    "import pandas as pd\n",
    "import seaborn as sns\n",
    "import matplotlib.pyplot as plt\n",
    "import numpy as np\n",
    "from sklearn.linear_model import LinearRegression\n",
    "from sklearn import metrics"
   ]
  },
  {
   "cell_type": "code",
   "execution_count": 2,
   "id": "59005379",
   "metadata": {},
   "outputs": [
    {
     "data": {
      "text/html": [
       "<div>\n",
       "<style scoped>\n",
       "    .dataframe tbody tr th:only-of-type {\n",
       "        vertical-align: middle;\n",
       "    }\n",
       "\n",
       "    .dataframe tbody tr th {\n",
       "        vertical-align: top;\n",
       "    }\n",
       "\n",
       "    .dataframe thead th {\n",
       "        text-align: right;\n",
       "    }\n",
       "</style>\n",
       "<table border=\"1\" class=\"dataframe\">\n",
       "  <thead>\n",
       "    <tr style=\"text-align: right;\">\n",
       "      <th></th>\n",
       "      <th>type</th>\n",
       "      <th>E_Extroversion</th>\n",
       "      <th>S_Sensing</th>\n",
       "      <th>T_Thinking</th>\n",
       "      <th>J_Judging</th>\n",
       "      <th>posts</th>\n",
       "      <th>clean_posts</th>\n",
       "      <th>compound_sentiment</th>\n",
       "      <th>pos_sentiment</th>\n",
       "      <th>neg_sentiment</th>\n",
       "      <th>...</th>\n",
       "      <th>em</th>\n",
       "      <th>colons</th>\n",
       "      <th>emojis</th>\n",
       "      <th>word_count</th>\n",
       "      <th>unique_words</th>\n",
       "      <th>post_length_var</th>\n",
       "      <th>upper</th>\n",
       "      <th>link_count</th>\n",
       "      <th>ellipses</th>\n",
       "      <th>img_count</th>\n",
       "    </tr>\n",
       "  </thead>\n",
       "  <tbody>\n",
       "    <tr>\n",
       "      <th>0</th>\n",
       "      <td>INFJ</td>\n",
       "      <td>0</td>\n",
       "      <td>0</td>\n",
       "      <td>0</td>\n",
       "      <td>1</td>\n",
       "      <td>'When asked of the things you wish you did ear...</td>\n",
       "      <td>asked thing wish earlier       find answering...</td>\n",
       "      <td>0.999800</td>\n",
       "      <td>0.418667</td>\n",
       "      <td>0.136150</td>\n",
       "      <td>...</td>\n",
       "      <td>0.22</td>\n",
       "      <td>0.32</td>\n",
       "      <td>0.08</td>\n",
       "      <td>30.98</td>\n",
       "      <td>14.92</td>\n",
       "      <td>78.414931</td>\n",
       "      <td>1.46</td>\n",
       "      <td>0.04</td>\n",
       "      <td>0.62</td>\n",
       "      <td>0.00</td>\n",
       "    </tr>\n",
       "    <tr>\n",
       "      <th>1</th>\n",
       "      <td>INFJ</td>\n",
       "      <td>0</td>\n",
       "      <td>0</td>\n",
       "      <td>0</td>\n",
       "      <td>1</td>\n",
       "      <td>'I love both and they are equally important to...</td>\n",
       "      <td>love equally important  music window soul  in...</td>\n",
       "      <td>0.999950</td>\n",
       "      <td>0.600000</td>\n",
       "      <td>0.134585</td>\n",
       "      <td>...</td>\n",
       "      <td>0.36</td>\n",
       "      <td>0.14</td>\n",
       "      <td>0.00</td>\n",
       "      <td>28.58</td>\n",
       "      <td>12.72</td>\n",
       "      <td>160.744400</td>\n",
       "      <td>1.62</td>\n",
       "      <td>0.02</td>\n",
       "      <td>0.04</td>\n",
       "      <td>0.00</td>\n",
       "    </tr>\n",
       "    <tr>\n",
       "      <th>2</th>\n",
       "      <td>INFJ</td>\n",
       "      <td>0</td>\n",
       "      <td>0</td>\n",
       "      <td>0</td>\n",
       "      <td>1</td>\n",
       "      <td>Really? You think implying that everyone who i...</td>\n",
       "      <td>really  think implying everyone entrepreneur s...</td>\n",
       "      <td>0.995499</td>\n",
       "      <td>0.353333</td>\n",
       "      <td>0.297340</td>\n",
       "      <td>...</td>\n",
       "      <td>0.10</td>\n",
       "      <td>0.50</td>\n",
       "      <td>0.20</td>\n",
       "      <td>22.28</td>\n",
       "      <td>11.76</td>\n",
       "      <td>176.249600</td>\n",
       "      <td>1.30</td>\n",
       "      <td>0.06</td>\n",
       "      <td>0.04</td>\n",
       "      <td>0.04</td>\n",
       "    </tr>\n",
       "    <tr>\n",
       "      <th>3</th>\n",
       "      <td>ENFJ</td>\n",
       "      <td>1</td>\n",
       "      <td>0</td>\n",
       "      <td>0</td>\n",
       "      <td>1</td>\n",
       "      <td>'Love is a crazy thing.   Se is our best form ...</td>\n",
       "      <td>love crazy thing     best form communication ...</td>\n",
       "      <td>0.999700</td>\n",
       "      <td>0.437333</td>\n",
       "      <td>0.262911</td>\n",
       "      <td>...</td>\n",
       "      <td>0.00</td>\n",
       "      <td>0.00</td>\n",
       "      <td>0.00</td>\n",
       "      <td>34.36</td>\n",
       "      <td>15.38</td>\n",
       "      <td>83.520000</td>\n",
       "      <td>2.10</td>\n",
       "      <td>0.02</td>\n",
       "      <td>0.18</td>\n",
       "      <td>0.00</td>\n",
       "    </tr>\n",
       "    <tr>\n",
       "      <th>4</th>\n",
       "      <td>INTP</td>\n",
       "      <td>0</td>\n",
       "      <td>0</td>\n",
       "      <td>1</td>\n",
       "      <td>0</td>\n",
       "      <td>'I am a physics undergrad with a computation e...</td>\n",
       "      <td>physic undergrad computation emphasis  learni...</td>\n",
       "      <td>0.999700</td>\n",
       "      <td>0.424000</td>\n",
       "      <td>0.172144</td>\n",
       "      <td>...</td>\n",
       "      <td>0.48</td>\n",
       "      <td>0.14</td>\n",
       "      <td>0.00</td>\n",
       "      <td>23.90</td>\n",
       "      <td>12.66</td>\n",
       "      <td>152.750400</td>\n",
       "      <td>1.70</td>\n",
       "      <td>0.50</td>\n",
       "      <td>0.00</td>\n",
       "      <td>0.04</td>\n",
       "    </tr>\n",
       "  </tbody>\n",
       "</table>\n",
       "<p>5 rows × 126 columns</p>\n",
       "</div>"
      ],
      "text/plain": [
       "   type  E_Extroversion  S_Sensing  T_Thinking  J_Judging  \\\n",
       "0  INFJ               0          0           0          1   \n",
       "1  INFJ               0          0           0          1   \n",
       "2  INFJ               0          0           0          1   \n",
       "3  ENFJ               1          0           0          1   \n",
       "4  INTP               0          0           1          0   \n",
       "\n",
       "                                               posts  \\\n",
       "0  'When asked of the things you wish you did ear...   \n",
       "1  'I love both and they are equally important to...   \n",
       "2  Really? You think implying that everyone who i...   \n",
       "3  'Love is a crazy thing.   Se is our best form ...   \n",
       "4  'I am a physics undergrad with a computation e...   \n",
       "\n",
       "                                         clean_posts  compound_sentiment  \\\n",
       "0   asked thing wish earlier       find answering...            0.999800   \n",
       "1   love equally important  music window soul  in...            0.999950   \n",
       "2  really  think implying everyone entrepreneur s...            0.995499   \n",
       "3   love crazy thing     best form communication ...            0.999700   \n",
       "4   physic undergrad computation emphasis  learni...            0.999700   \n",
       "\n",
       "   pos_sentiment  neg_sentiment  ...    em colons emojis  word_count  \\\n",
       "0       0.418667       0.136150  ...  0.22   0.32   0.08       30.98   \n",
       "1       0.600000       0.134585  ...  0.36   0.14   0.00       28.58   \n",
       "2       0.353333       0.297340  ...  0.10   0.50   0.20       22.28   \n",
       "3       0.437333       0.262911  ...  0.00   0.00   0.00       34.36   \n",
       "4       0.424000       0.172144  ...  0.48   0.14   0.00       23.90   \n",
       "\n",
       "   unique_words  post_length_var  upper  link_count  ellipses  img_count  \n",
       "0         14.92        78.414931   1.46        0.04      0.62       0.00  \n",
       "1         12.72       160.744400   1.62        0.02      0.04       0.00  \n",
       "2         11.76       176.249600   1.30        0.06      0.04       0.04  \n",
       "3         15.38        83.520000   2.10        0.02      0.18       0.00  \n",
       "4         12.66       152.750400   1.70        0.50      0.00       0.04  \n",
       "\n",
       "[5 rows x 126 columns]"
      ]
     },
     "execution_count": 2,
     "metadata": {},
     "output_type": "execute_result"
    }
   ],
   "source": [
    "df = pd.read_csv('clean_data_final.csv')\n",
    "df.head()"
   ]
  },
  {
   "cell_type": "code",
   "execution_count": 3,
   "id": "051fe590",
   "metadata": {},
   "outputs": [
    {
     "data": {
      "text/plain": [
       "(8344, 126)"
      ]
     },
     "execution_count": 3,
     "metadata": {},
     "output_type": "execute_result"
    }
   ],
   "source": [
    "df.shape"
   ]
  },
  {
   "cell_type": "code",
   "execution_count": 4,
   "id": "58ab12a6",
   "metadata": {},
   "outputs": [
    {
     "data": {
      "text/html": [
       "<div>\n",
       "<style scoped>\n",
       "    .dataframe tbody tr th:only-of-type {\n",
       "        vertical-align: middle;\n",
       "    }\n",
       "\n",
       "    .dataframe tbody tr th {\n",
       "        vertical-align: top;\n",
       "    }\n",
       "\n",
       "    .dataframe thead th {\n",
       "        text-align: right;\n",
       "    }\n",
       "</style>\n",
       "<table border=\"1\" class=\"dataframe\">\n",
       "  <thead>\n",
       "    <tr style=\"text-align: right;\">\n",
       "      <th></th>\n",
       "      <th>type</th>\n",
       "      <th>E_Extroversion</th>\n",
       "      <th>S_Sensing</th>\n",
       "      <th>T_Thinking</th>\n",
       "      <th>J_Judging</th>\n",
       "      <th>posts</th>\n",
       "      <th>clean_posts</th>\n",
       "      <th>compound_sentiment</th>\n",
       "      <th>pos_sentiment</th>\n",
       "      <th>neg_sentiment</th>\n",
       "      <th>...</th>\n",
       "      <th>em</th>\n",
       "      <th>colons</th>\n",
       "      <th>emojis</th>\n",
       "      <th>word_count</th>\n",
       "      <th>unique_words</th>\n",
       "      <th>post_length_var</th>\n",
       "      <th>upper</th>\n",
       "      <th>link_count</th>\n",
       "      <th>ellipses</th>\n",
       "      <th>img_count</th>\n",
       "    </tr>\n",
       "  </thead>\n",
       "  <tbody>\n",
       "    <tr>\n",
       "      <th>1860</th>\n",
       "      <td>INTJ</td>\n",
       "      <td>0</td>\n",
       "      <td>0</td>\n",
       "      <td>1</td>\n",
       "      <td>1</td>\n",
       "      <td>'Her behavior already seems shady, and he seem...</td>\n",
       "      <td>behavior already seems shady  seems encouragi...</td>\n",
       "      <td>0.99965</td>\n",
       "      <td>0.420000</td>\n",
       "      <td>0.259781</td>\n",
       "      <td>...</td>\n",
       "      <td>NaN</td>\n",
       "      <td>NaN</td>\n",
       "      <td>NaN</td>\n",
       "      <td>NaN</td>\n",
       "      <td>NaN</td>\n",
       "      <td>NaN</td>\n",
       "      <td>NaN</td>\n",
       "      <td>NaN</td>\n",
       "      <td>NaN</td>\n",
       "      <td>NaN</td>\n",
       "    </tr>\n",
       "    <tr>\n",
       "      <th>3186</th>\n",
       "      <td>INFJ</td>\n",
       "      <td>0</td>\n",
       "      <td>0</td>\n",
       "      <td>0</td>\n",
       "      <td>1</td>\n",
       "      <td>'inregardstomyself Oh not at all. I was thinki...</td>\n",
       "      <td>inregardstomyself   thinking thing  actually ...</td>\n",
       "      <td>0.99985</td>\n",
       "      <td>0.464000</td>\n",
       "      <td>0.172144</td>\n",
       "      <td>...</td>\n",
       "      <td>NaN</td>\n",
       "      <td>NaN</td>\n",
       "      <td>NaN</td>\n",
       "      <td>NaN</td>\n",
       "      <td>NaN</td>\n",
       "      <td>NaN</td>\n",
       "      <td>NaN</td>\n",
       "      <td>NaN</td>\n",
       "      <td>NaN</td>\n",
       "      <td>NaN</td>\n",
       "    </tr>\n",
       "    <tr>\n",
       "      <th>3486</th>\n",
       "      <td>INFP</td>\n",
       "      <td>0</td>\n",
       "      <td>0</td>\n",
       "      <td>0</td>\n",
       "      <td>0</td>\n",
       "      <td>'Follow your intuition, no matter how crazy it...</td>\n",
       "      <td>follow intuition  matter crazy   barely taken...</td>\n",
       "      <td>0.99895</td>\n",
       "      <td>0.322667</td>\n",
       "      <td>0.222222</td>\n",
       "      <td>...</td>\n",
       "      <td>NaN</td>\n",
       "      <td>NaN</td>\n",
       "      <td>NaN</td>\n",
       "      <td>NaN</td>\n",
       "      <td>NaN</td>\n",
       "      <td>NaN</td>\n",
       "      <td>NaN</td>\n",
       "      <td>NaN</td>\n",
       "      <td>NaN</td>\n",
       "      <td>NaN</td>\n",
       "    </tr>\n",
       "  </tbody>\n",
       "</table>\n",
       "<p>3 rows × 126 columns</p>\n",
       "</div>"
      ],
      "text/plain": [
       "      type  E_Extroversion  S_Sensing  T_Thinking  J_Judging  \\\n",
       "1860  INTJ               0          0           1          1   \n",
       "3186  INFJ               0          0           0          1   \n",
       "3486  INFP               0          0           0          0   \n",
       "\n",
       "                                                  posts  \\\n",
       "1860  'Her behavior already seems shady, and he seem...   \n",
       "3186  'inregardstomyself Oh not at all. I was thinki...   \n",
       "3486  'Follow your intuition, no matter how crazy it...   \n",
       "\n",
       "                                            clean_posts  compound_sentiment  \\\n",
       "1860   behavior already seems shady  seems encouragi...             0.99965   \n",
       "3186   inregardstomyself   thinking thing  actually ...             0.99985   \n",
       "3486   follow intuition  matter crazy   barely taken...             0.99895   \n",
       "\n",
       "      pos_sentiment  neg_sentiment  ...  em colons emojis  word_count  \\\n",
       "1860       0.420000       0.259781  ... NaN    NaN    NaN         NaN   \n",
       "3186       0.464000       0.172144  ... NaN    NaN    NaN         NaN   \n",
       "3486       0.322667       0.222222  ... NaN    NaN    NaN         NaN   \n",
       "\n",
       "      unique_words  post_length_var  upper  link_count  ellipses  img_count  \n",
       "1860           NaN              NaN    NaN         NaN       NaN        NaN  \n",
       "3186           NaN              NaN    NaN         NaN       NaN        NaN  \n",
       "3486           NaN              NaN    NaN         NaN       NaN        NaN  \n",
       "\n",
       "[3 rows x 126 columns]"
      ]
     },
     "execution_count": 4,
     "metadata": {},
     "output_type": "execute_result"
    }
   ],
   "source": [
    "#เช็คrowว่าง\n",
    "threshold = 50 \n",
    "\n",
    "df.index[(df.isnull().sum(axis=1)/len(df.columns)*100) >= threshold]\n",
    "\n",
    "df.iloc[df.index[(df.isnull().sum(axis=1)/len(df.columns)*100) >= threshold]]"
   ]
  },
  {
   "cell_type": "code",
   "execution_count": 5,
   "id": "be61d516",
   "metadata": {},
   "outputs": [],
   "source": [
    "df = df.dropna(how=\"any\", axis=0)"
   ]
  },
  {
   "cell_type": "code",
   "execution_count": 6,
   "id": "139b75f0",
   "metadata": {},
   "outputs": [
    {
     "data": {
      "text/plain": [
       "type               0\n",
       "E_Extroversion     0\n",
       "S_Sensing          0\n",
       "T_Thinking         0\n",
       "J_Judging          0\n",
       "                  ..\n",
       "post_length_var    0\n",
       "upper              0\n",
       "link_count         0\n",
       "ellipses           0\n",
       "img_count          0\n",
       "Length: 126, dtype: int64"
      ]
     },
     "execution_count": 6,
     "metadata": {},
     "output_type": "execute_result"
    }
   ],
   "source": [
    "df.isnull().sum()"
   ]
  },
  {
   "cell_type": "code",
   "execution_count": 7,
   "id": "77ea7718",
   "metadata": {},
   "outputs": [
    {
     "data": {
      "text/plain": [
       "Index(['type', 'E_Extroversion', 'S_Sensing', 'T_Thinking', 'J_Judging',\n",
       "       'posts', 'clean_posts', 'compound_sentiment', 'pos_sentiment',\n",
       "       'neg_sentiment',\n",
       "       ...\n",
       "       'em', 'colons', 'emojis', 'word_count', 'unique_words',\n",
       "       'post_length_var', 'upper', 'link_count', 'ellipses', 'img_count'],\n",
       "      dtype='object', length=126)"
      ]
     },
     "execution_count": 7,
     "metadata": {},
     "output_type": "execute_result"
    }
   ],
   "source": [
    "df.columns"
   ]
  },
  {
   "cell_type": "code",
   "execution_count": 8,
   "id": "c65c1bdc",
   "metadata": {},
   "outputs": [
    {
     "name": "stdout",
     "output_type": "stream",
     "text": [
      "(8341, 24)\n",
      "(8341,)\n"
     ]
    }
   ],
   "source": [
    "#เซ็ต x y\n",
    "X = df[\n",
    "    [\n",
    "        \"compound_sentiment\",\n",
    "        'pos_sentiment', \n",
    "        'neg_sentiment', \n",
    "        'neu_sentiment',\n",
    "        \"ADJ_avg\",\n",
    "        \"ADP_avg\",\n",
    "        \"ADV_avg\",\n",
    "        \"CONJ_avg\",\n",
    "        \"DET_avg\",\n",
    "        \"NOUN_avg\",\n",
    "        \"NUM_avg\",\n",
    "        \"PRT_avg\",\n",
    "        \"PRON_avg\",\n",
    "        \"VERB_avg\",\n",
    "        \"qm\",\n",
    "        \"em\",\n",
    "        \"colons\",\n",
    "        \"emojis\",\n",
    "        \"word_count\",\n",
    "        \"unique_words\",\n",
    "        \"upper\",\n",
    "        \"link_count\",\n",
    "        \"ellipses\",\n",
    "        \"img_count\",\n",
    "    ]\n",
    "]\n",
    "\n",
    "Y = df.iloc[:, 0]\n",
    "\n",
    "print(X.shape)\n",
    "print(Y.shape)\n"
   ]
  },
  {
   "cell_type": "code",
   "execution_count": 9,
   "id": "e4269bfb",
   "metadata": {},
   "outputs": [
    {
     "data": {
      "text/html": [
       "<div>\n",
       "<style scoped>\n",
       "    .dataframe tbody tr th:only-of-type {\n",
       "        vertical-align: middle;\n",
       "    }\n",
       "\n",
       "    .dataframe tbody tr th {\n",
       "        vertical-align: top;\n",
       "    }\n",
       "\n",
       "    .dataframe thead th {\n",
       "        text-align: right;\n",
       "    }\n",
       "</style>\n",
       "<table border=\"1\" class=\"dataframe\">\n",
       "  <thead>\n",
       "    <tr style=\"text-align: right;\">\n",
       "      <th></th>\n",
       "      <th>compound_sentiment</th>\n",
       "      <th>pos_sentiment</th>\n",
       "      <th>neg_sentiment</th>\n",
       "      <th>neu_sentiment</th>\n",
       "      <th>ADJ_avg</th>\n",
       "      <th>ADP_avg</th>\n",
       "      <th>ADV_avg</th>\n",
       "      <th>CONJ_avg</th>\n",
       "      <th>DET_avg</th>\n",
       "      <th>NOUN_avg</th>\n",
       "      <th>...</th>\n",
       "      <th>qm</th>\n",
       "      <th>em</th>\n",
       "      <th>colons</th>\n",
       "      <th>emojis</th>\n",
       "      <th>word_count</th>\n",
       "      <th>unique_words</th>\n",
       "      <th>upper</th>\n",
       "      <th>link_count</th>\n",
       "      <th>ellipses</th>\n",
       "      <th>img_count</th>\n",
       "    </tr>\n",
       "  </thead>\n",
       "  <tbody>\n",
       "    <tr>\n",
       "      <th>0</th>\n",
       "      <td>0.999800</td>\n",
       "      <td>0.418667</td>\n",
       "      <td>0.136150</td>\n",
       "      <td>0.652505</td>\n",
       "      <td>3.0</td>\n",
       "      <td>1.0</td>\n",
       "      <td>4.0</td>\n",
       "      <td>5.0</td>\n",
       "      <td>3.0</td>\n",
       "      <td>6.0</td>\n",
       "      <td>...</td>\n",
       "      <td>0.08</td>\n",
       "      <td>0.22</td>\n",
       "      <td>0.32</td>\n",
       "      <td>0.08</td>\n",
       "      <td>30.98</td>\n",
       "      <td>14.92</td>\n",
       "      <td>1.46</td>\n",
       "      <td>0.04</td>\n",
       "      <td>0.62</td>\n",
       "      <td>0.00</td>\n",
       "    </tr>\n",
       "    <tr>\n",
       "      <th>1</th>\n",
       "      <td>0.999950</td>\n",
       "      <td>0.600000</td>\n",
       "      <td>0.134585</td>\n",
       "      <td>0.506536</td>\n",
       "      <td>2.0</td>\n",
       "      <td>1.0</td>\n",
       "      <td>3.0</td>\n",
       "      <td>5.0</td>\n",
       "      <td>2.0</td>\n",
       "      <td>5.0</td>\n",
       "      <td>...</td>\n",
       "      <td>0.12</td>\n",
       "      <td>0.36</td>\n",
       "      <td>0.14</td>\n",
       "      <td>0.00</td>\n",
       "      <td>28.58</td>\n",
       "      <td>12.72</td>\n",
       "      <td>1.62</td>\n",
       "      <td>0.02</td>\n",
       "      <td>0.04</td>\n",
       "      <td>0.00</td>\n",
       "    </tr>\n",
       "    <tr>\n",
       "      <th>2</th>\n",
       "      <td>0.995499</td>\n",
       "      <td>0.353333</td>\n",
       "      <td>0.297340</td>\n",
       "      <td>0.594771</td>\n",
       "      <td>1.0</td>\n",
       "      <td>1.0</td>\n",
       "      <td>2.0</td>\n",
       "      <td>3.0</td>\n",
       "      <td>2.0</td>\n",
       "      <td>5.0</td>\n",
       "      <td>...</td>\n",
       "      <td>0.32</td>\n",
       "      <td>0.10</td>\n",
       "      <td>0.50</td>\n",
       "      <td>0.20</td>\n",
       "      <td>22.28</td>\n",
       "      <td>11.76</td>\n",
       "      <td>1.30</td>\n",
       "      <td>0.06</td>\n",
       "      <td>0.04</td>\n",
       "      <td>0.04</td>\n",
       "    </tr>\n",
       "    <tr>\n",
       "      <th>3</th>\n",
       "      <td>0.999700</td>\n",
       "      <td>0.437333</td>\n",
       "      <td>0.262911</td>\n",
       "      <td>0.549020</td>\n",
       "      <td>2.5</td>\n",
       "      <td>0.0</td>\n",
       "      <td>3.0</td>\n",
       "      <td>4.0</td>\n",
       "      <td>2.5</td>\n",
       "      <td>6.0</td>\n",
       "      <td>...</td>\n",
       "      <td>0.04</td>\n",
       "      <td>0.00</td>\n",
       "      <td>0.00</td>\n",
       "      <td>0.00</td>\n",
       "      <td>34.36</td>\n",
       "      <td>15.38</td>\n",
       "      <td>2.10</td>\n",
       "      <td>0.02</td>\n",
       "      <td>0.18</td>\n",
       "      <td>0.00</td>\n",
       "    </tr>\n",
       "    <tr>\n",
       "      <th>4</th>\n",
       "      <td>0.999700</td>\n",
       "      <td>0.424000</td>\n",
       "      <td>0.172144</td>\n",
       "      <td>0.623094</td>\n",
       "      <td>2.0</td>\n",
       "      <td>0.0</td>\n",
       "      <td>2.0</td>\n",
       "      <td>4.0</td>\n",
       "      <td>2.0</td>\n",
       "      <td>6.0</td>\n",
       "      <td>...</td>\n",
       "      <td>0.64</td>\n",
       "      <td>0.48</td>\n",
       "      <td>0.14</td>\n",
       "      <td>0.00</td>\n",
       "      <td>23.90</td>\n",
       "      <td>12.66</td>\n",
       "      <td>1.70</td>\n",
       "      <td>0.50</td>\n",
       "      <td>0.00</td>\n",
       "      <td>0.04</td>\n",
       "    </tr>\n",
       "  </tbody>\n",
       "</table>\n",
       "<p>5 rows × 24 columns</p>\n",
       "</div>"
      ],
      "text/plain": [
       "   compound_sentiment  pos_sentiment  neg_sentiment  neu_sentiment  ADJ_avg  \\\n",
       "0            0.999800       0.418667       0.136150       0.652505      3.0   \n",
       "1            0.999950       0.600000       0.134585       0.506536      2.0   \n",
       "2            0.995499       0.353333       0.297340       0.594771      1.0   \n",
       "3            0.999700       0.437333       0.262911       0.549020      2.5   \n",
       "4            0.999700       0.424000       0.172144       0.623094      2.0   \n",
       "\n",
       "   ADP_avg  ADV_avg  CONJ_avg  DET_avg  NOUN_avg  ...    qm    em  colons  \\\n",
       "0      1.0      4.0       5.0      3.0       6.0  ...  0.08  0.22    0.32   \n",
       "1      1.0      3.0       5.0      2.0       5.0  ...  0.12  0.36    0.14   \n",
       "2      1.0      2.0       3.0      2.0       5.0  ...  0.32  0.10    0.50   \n",
       "3      0.0      3.0       4.0      2.5       6.0  ...  0.04  0.00    0.00   \n",
       "4      0.0      2.0       4.0      2.0       6.0  ...  0.64  0.48    0.14   \n",
       "\n",
       "   emojis  word_count  unique_words  upper  link_count  ellipses  img_count  \n",
       "0    0.08       30.98         14.92   1.46        0.04      0.62       0.00  \n",
       "1    0.00       28.58         12.72   1.62        0.02      0.04       0.00  \n",
       "2    0.20       22.28         11.76   1.30        0.06      0.04       0.04  \n",
       "3    0.00       34.36         15.38   2.10        0.02      0.18       0.00  \n",
       "4    0.00       23.90         12.66   1.70        0.50      0.00       0.04  \n",
       "\n",
       "[5 rows x 24 columns]"
      ]
     },
     "execution_count": 9,
     "metadata": {},
     "output_type": "execute_result"
    }
   ],
   "source": [
    "X.head()"
   ]
  },
  {
   "cell_type": "code",
   "execution_count": 10,
   "id": "eed817de",
   "metadata": {},
   "outputs": [
    {
     "data": {
      "text/plain": [
       "0    INFJ\n",
       "1    INFJ\n",
       "2    INFJ\n",
       "3    ENFJ\n",
       "4    INTP\n",
       "Name: type, dtype: object"
      ]
     },
     "execution_count": 10,
     "metadata": {},
     "output_type": "execute_result"
    }
   ],
   "source": [
    "Y.head()"
   ]
  },
  {
   "cell_type": "code",
   "execution_count": 11,
   "id": "e859c8f5",
   "metadata": {},
   "outputs": [
    {
     "data": {
      "text/plain": [
       "array([[ 0.18593255,  0.51071498, -1.09219092, ..., -0.23815333,\n",
       "         4.16292553, -0.39080447],\n",
       "       [ 0.18698271,  2.9717308 , -1.11798101, ..., -0.40867757,\n",
       "        -0.2856879 , -0.39080447],\n",
       "       [ 0.15582781, -0.37597455,  1.56418895, ..., -0.06762908,\n",
       "        -0.2856879 ,  0.34410706],\n",
       "       ...,\n",
       "       [ 0.18138183, -1.0093242 , -0.37006824, ..., -0.40867757,\n",
       "         1.09491627, -0.39080447],\n",
       "       [ 0.18488238, -0.28549602, -1.40167208, ...,  2.49023455,\n",
       "        -0.59248883,  5.85594351],\n",
       "       [ 0.17788128, -0.9912285 , -0.034797  , ..., -0.57920181,\n",
       "         0.48131441, -0.39080447]])"
      ]
     },
     "execution_count": 11,
     "metadata": {},
     "output_type": "execute_result"
    }
   ],
   "source": [
    "#model\n",
    "\n",
    "from sklearn.preprocessing import StandardScaler\n",
    "sc = StandardScaler()\n",
    "sc.fit(X) \n",
    "X = sc.transform(X)\n",
    "X"
   ]
  },
  {
   "cell_type": "code",
   "execution_count": 12,
   "id": "13d74d0c",
   "metadata": {},
   "outputs": [
    {
     "name": "stdout",
     "output_type": "stream",
     "text": [
      "Training Accuracy:  0.4174559405347081\n",
      "Training Classification Error:  0.582544059465292\n",
      "Confusion matrix:\n",
      "[[ 79  14   0   8   0   0   0   0  30  33   4  10   0   1   0   3]\n",
      " [ 28 359   3   8   0   0   0   1  69 103  30  33   1   2   3   3]\n",
      " [  8  27  66   5   0   0   0   0  19  39  26  31   0   2   1   1]\n",
      " [ 17  61  18 282   0   0   0   0  59  83  56  74   2   0   4   8]\n",
      " [  5   1   2   4   6   0   0   0   8   8   1   2   0   0   0   0]\n",
      " [  2   9   1   6   1   4   0   0   7   6   5   4   0   1   0   0]\n",
      " [  1   6   2   4   0   1   7   0   3   4   2   7   0   0   0   0]\n",
      " [  4  14   1  12   0   1   0  12  12  14   7   8   0   0   0   1]\n",
      " [ 27 133  35 100   1   4   4   6 703 186  80 107   2   5   4   5]\n",
      " [ 45 142  35 127   0   6   2   9 256 911  76 111   3   6   4  14]\n",
      " [ 17  69  34  97   4   3   2   9 133 138 404 136   2   2   3   8]\n",
      " [ 21  73  29 115   3   1   1   6 134 160 158 563   2   2   1   5]\n",
      " [ 12  21   6   8   0   4   2   3  32  38   7  11   9   0   0   1]\n",
      " [ 10  29  10  25   0   0   0   3  51  58  22  26   2  19   2   3]\n",
      " [  5  28   4  30   0   2   1   0  36  29  22  19   1   0  20   0]\n",
      " [  8  28   9  40   0   1   0   1  53  50  38  56   1   1   2  38]]\n"
     ]
    }
   ],
   "source": [
    "from sklearn.neighbors import KNeighborsClassifier\n",
    "from sklearn import metrics\n",
    "\n",
    "knn = KNeighborsClassifier(n_neighbors=5, metric = 'euclidean')\n",
    "\n",
    "knn.fit(X, Y)\n",
    "\n",
    "y_pred = knn.predict(X)\n",
    "\n",
    "ac = metrics.accuracy_score(Y, y_pred)\n",
    "print('Training Accuracy: ', ac)\n",
    "print('Training Classification Error: ', 1-ac)\n",
    "print('Confusion matrix:')\n",
    "print(metrics.confusion_matrix(Y, y_pred))"
   ]
  },
  {
   "cell_type": "code",
   "execution_count": 13,
   "id": "4ad9de0e",
   "metadata": {},
   "outputs": [
    {
     "name": "stdout",
     "output_type": "stream",
     "text": [
      "x_train shape:  (5838, 24)\n",
      "y_train shape:  (5838,)\n",
      "x_test shape:  (2503, 24)\n",
      "y_test shape:  (2503,)\n"
     ]
    }
   ],
   "source": [
    "from sklearn.model_selection import train_test_split\n",
    "x_train, x_test, y_train, y_test = train_test_split(X, Y, test_size = 0.3)#, random_state = 0)\n",
    "\n",
    "# Print the shape of trainning and test sets\n",
    "print(\"x_train shape: \", x_train.shape)\n",
    "print(\"y_train shape: \", y_train.shape)\n",
    "print(\"x_test shape: \", x_test.shape)\n",
    "print(\"y_test shape: \", y_test.shape)"
   ]
  },
  {
   "cell_type": "code",
   "execution_count": 14,
   "id": "af1fe04f",
   "metadata": {},
   "outputs": [
    {
     "data": {
      "text/plain": [
       "INFP    1191\n",
       "INFJ     982\n",
       "INTP     901\n",
       "INTJ     748\n",
       "ENTP     463\n",
       "ENFP     450\n",
       "ISTP     232\n",
       "ISFP     176\n",
       "ENTJ     159\n",
       "ISTJ     141\n",
       "ENFJ     137\n",
       "ISFJ     114\n",
       "ESTP      60\n",
       "ESFP      36\n",
       "ESFJ      28\n",
       "ESTJ      20\n",
       "Name: type, dtype: int64"
      ]
     },
     "execution_count": 14,
     "metadata": {},
     "output_type": "execute_result"
    }
   ],
   "source": [
    "y_train.value_counts()"
   ]
  },
  {
   "cell_type": "code",
   "execution_count": 15,
   "id": "93b48a15",
   "metadata": {
    "scrolled": true
   },
   "outputs": [
    {
     "data": {
      "text/plain": [
       "INFP    556\n",
       "INFJ    420\n",
       "INTP    373\n",
       "INTJ    313\n",
       "ENTP    201\n",
       "ENFP    193\n",
       "ISTP     94\n",
       "ISFP     84\n",
       "ENTJ     66\n",
       "ISTJ     56\n",
       "ENFJ     45\n",
       "ISFJ     40\n",
       "ESTP     26\n",
       "ESTJ     17\n",
       "ESFP     10\n",
       "ESFJ      9\n",
       "Name: type, dtype: int64"
      ]
     },
     "execution_count": 15,
     "metadata": {},
     "output_type": "execute_result"
    }
   ],
   "source": [
    "y_test.value_counts()"
   ]
  },
  {
   "cell_type": "code",
   "execution_count": 16,
   "id": "5f986205",
   "metadata": {},
   "outputs": [
    {
     "name": "stdout",
     "output_type": "stream",
     "text": [
      "Testing Accuracy:  0.1673991210547343\n",
      "Testing Classification Error:  0.8326008789452657\n",
      "Confusion matrix:\n",
      "[[  3  11   0   4   0   0   0   0  12   7   1   5   0   0   1   1]\n",
      " [ 12  33   4  14   3   0   0   1  34  55  14  16   2   2   0   3]\n",
      " [  1  10   3   8   0   0   0   0  10  12  11  11   0   0   0   0]\n",
      " [  6  22   9  19   0   1   0   0  40  38  24  38   0   1   1   2]\n",
      " [  0   1   0   0   0   0   0   0   4   1   1   1   1   0   0   0]\n",
      " [  1   3   0   0   0   0   0   0   2   2   1   1   0   0   0   0]\n",
      " [  0   2   1   1   0   1   0   0   2   6   2   2   0   0   0   0]\n",
      " [  0   4   1   2   0   1   0   0   7   2   6   3   0   0   0   0]\n",
      " [ 11  43  18  32   0   3   3   2 107 116  25  50   1   4   1   4]\n",
      " [ 19  65  20  62   1   1   1   1 125 143  45  62   1   2   0   8]\n",
      " [  5  28  15  39   1   1   0   3  70  54  39  51   1   1   1   4]\n",
      " [  2  33  16  47   0   3   0   4  56  67  67  71   1   0   1   5]\n",
      " [  1   1   0   7   0   0   0   0  15   7   3   5   0   1   0   0]\n",
      " [  6   4   5   7   0   0   0   0  20  20  10  12   0   0   0   0]\n",
      " [  0   7   2   6   0   0   0   0  12  13   7   7   0   0   1   1]\n",
      " [  2   8   4   9   1   0   0   1  17  19  11  21   0   0   1   0]]\n"
     ]
    }
   ],
   "source": [
    "from sklearn.neighbors import KNeighborsClassifier\n",
    "from sklearn import metrics\n",
    "\n",
    "# Initialize the knn model with k = 5\n",
    "knn = KNeighborsClassifier(n_neighbors=5, metric = 'euclidean')\n",
    "\n",
    "# Fit the model to the training set\n",
    "knn.fit(x_train, y_train)\n",
    "\n",
    "# Predict classes of the test set\n",
    "y_pred = knn.predict(x_test)\n",
    "\n",
    "# Evaluate model performace\n",
    "ac = metrics.accuracy_score(y_test, y_pred)\n",
    "print('Testing Accuracy: ', ac)\n",
    "print('Testing Classification Error: ', 1-ac)\n",
    "print('Confusion matrix:')\n",
    "print(metrics.confusion_matrix(y_test, y_pred))"
   ]
  },
  {
   "cell_type": "code",
   "execution_count": 17,
   "id": "efe1d0db",
   "metadata": {},
   "outputs": [
    {
     "data": {
      "text/plain": [
       "{'fit_time': array([0.00672698, 0.00598097, 0.00889325, 0.00660253, 0.0059371 ,\n",
       "        0.00550175, 0.00887394, 0.00591302, 0.00498199, 0.00498104]),\n",
       " 'score_time': array([0.15087795, 0.17452741, 0.2255528 , 0.17702389, 0.20893836,\n",
       "        0.16628146, 0.17267323, 0.17795277, 0.15329695, 0.2178843 ]),\n",
       " 'test_score': array([0.18922156, 0.15947242, 0.15827338, 0.1942446 , 0.16906475,\n",
       "        0.17026379, 0.17505995, 0.17266187, 0.18105516, 0.16426859]),\n",
       " 'train_score': array([0.41646683, 0.41840948, 0.42826695, 0.41840948, 0.41800986,\n",
       "        0.4216065 , 0.41507926, 0.41348075, 0.41547889, 0.41494605])}"
      ]
     },
     "execution_count": 17,
     "metadata": {},
     "output_type": "execute_result"
    }
   ],
   "source": [
    "from sklearn.neighbors import KNeighborsClassifier\n",
    "from sklearn.model_selection import cross_validate\n",
    "\n",
    "knn = KNeighborsClassifier(n_neighbors=5, metric = 'euclidean')\n",
    "\n",
    "cv_results = cross_validate(knn, X,Y, cv=10, return_train_score=True)\n",
    "cv_results"
   ]
  },
  {
   "cell_type": "code",
   "execution_count": 18,
   "id": "c7fab549",
   "metadata": {},
   "outputs": [],
   "source": [
    "from sklearn import metrics\n",
    "k_range = list(range(1,30))\n",
    "scores_cv = []\n",
    "\n",
    "for k in k_range:\n",
    "    knn = KNeighborsClassifier(n_neighbors=k, metric = 'euclidean')\n",
    "    cv_results = cross_validate(knn, X,Y, cv=10) # compute CV accuracy\n",
    "    scores_cv.append(cv_results['test_score'].mean())"
   ]
  },
  {
   "cell_type": "code",
   "execution_count": 19,
   "id": "2d1bd148",
   "metadata": {},
   "outputs": [
    {
     "data": {
      "image/png": "[encoded data removed]",
      "text/plain": [
       "<Figure size 432x288 with 1 Axes>"
      ]
     },
     "metadata": {
      "needs_background": "light"
     },
     "output_type": "display_data"
    }
   ],
   "source": [
    "import matplotlib.pyplot as plt\n",
    "plt.plot(k_range, scores_cv, 'y', color='blue',marker='o', markerfacecolor='red', markersize='5')\n",
    "plt.xlabel('k value ')\n",
    "plt.ylabel('CV Accuracy Rate')\n",
    "plt.title('CV Accuracy Rates of k (K-Nearest-Neighbors)')\n",
    "plt.show()"
   ]
  },
  {
   "cell_type": "code",
   "execution_count": 20,
   "id": "c6d69bed",
   "metadata": {},
   "outputs": [
    {
     "name": "stdout",
     "output_type": "stream",
     "text": [
      "best k =  25 accuracy =  0.2161590488088571\n"
     ]
    }
   ],
   "source": [
    "import operator\n",
    "index, value = max(enumerate(scores_cv), key=operator.itemgetter(1))\n",
    "print('best k = ', index, 'accuracy = ', value)"
   ]
  },
  {
   "cell_type": "code",
   "execution_count": 21,
   "id": "a62fe8d5",
   "metadata": {},
   "outputs": [
    {
     "data": {
      "text/plain": [
       "KNeighborsClassifier(metric='euclidean', n_neighbors=25)"
      ]
     },
     "execution_count": 21,
     "metadata": {},
     "output_type": "execute_result"
    }
   ],
   "source": [
    "from sklearn.neighbors import KNeighborsClassifier\n",
    "\n",
    "best_knn = KNeighborsClassifier(n_neighbors=25, metric = 'euclidean') \n",
    "\n",
    "best_knn.fit(X,Y)"
   ]
  }
 ],
 "metadata": {
  "kernelspec": {
   "display_name": "Python 3",
   "language": "python",
   "name": "python3"
  },
  "language_info": {
   "codemirror_mode": {
    "name": "ipython",
    "version": 3
   },
   "file_extension": ".py",
   "mimetype": "text/x-python",
   "name": "python",
   "nbconvert_exporter": "python",
   "pygments_lexer": "ipython3",
   "version": "3.8.8"
  }
 },
 "nbformat": 4,
 "nbformat_minor": 5
}
