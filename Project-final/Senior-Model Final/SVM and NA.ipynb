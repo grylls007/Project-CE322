{
 "cells": [
  {
   "cell_type": "code",
   "execution_count": 1,
   "id": "2f3d847c",
   "metadata": {},
   "outputs": [],
   "source": [
    "import pandas as pd\n",
    "import numpy as np\n",
    "\n",
    "from sklearn.naive_bayes import MultinomialNB\n",
    "\n",
    "from sklearn.feature_extraction.text import CountVectorizer\n",
    "from sklearn.model_selection import train_test_split\n",
    "\n",
    "from sklearn.metrics import accuracy_score\n",
    "import time\n",
    "\n",
    "#library for regular expretion\n",
    "import re"
   ]
  },
  {
   "cell_type": "code",
   "execution_count": 2,
   "id": "e5b3b5d7",
   "metadata": {},
   "outputs": [],
   "source": [
    "df_train = pd.read_csv('df_train.csv')\n",
    "df_test = pd.read_csv('df_test.csv')"
   ]
  },
  {
   "cell_type": "code",
   "execution_count": 3,
   "id": "d4480e76",
   "metadata": {},
   "outputs": [
    {
     "data": {
      "text/html": [
       "<div>\n",
       "<style scoped>\n",
       "    .dataframe tbody tr th:only-of-type {\n",
       "        vertical-align: middle;\n",
       "    }\n",
       "\n",
       "    .dataframe tbody tr th {\n",
       "        vertical-align: top;\n",
       "    }\n",
       "\n",
       "    .dataframe thead th {\n",
       "        text-align: right;\n",
       "    }\n",
       "</style>\n",
       "<table border=\"1\" class=\"dataframe\">\n",
       "  <thead>\n",
       "    <tr style=\"text-align: right;\">\n",
       "      <th></th>\n",
       "      <th>type</th>\n",
       "      <th>posts</th>\n",
       "    </tr>\n",
       "  </thead>\n",
       "  <tbody>\n",
       "    <tr>\n",
       "      <th>0</th>\n",
       "      <td>ISTP</td>\n",
       "      <td>'288970 It's been a while, guys. Also I bleach...</td>\n",
       "    </tr>\n",
       "    <tr>\n",
       "      <th>1</th>\n",
       "      <td>INFP</td>\n",
       "      <td>'Hmm 15 facts about myself...  1. Reading is m...</td>\n",
       "    </tr>\n",
       "    <tr>\n",
       "      <th>2</th>\n",
       "      <td>ENFP</td>\n",
       "      <td>'Oh I have an INFJ friend. His eyes kinda ligh...</td>\n",
       "    </tr>\n",
       "    <tr>\n",
       "      <th>3</th>\n",
       "      <td>INTP</td>\n",
       "      <td>'Okay, I'm a total INTP all across the board. ...</td>\n",
       "    </tr>\n",
       "    <tr>\n",
       "      <th>4</th>\n",
       "      <td>ENTP</td>\n",
       "      <td>'Aaaaan...  I got the perfect solution stronge...</td>\n",
       "    </tr>\n",
       "  </tbody>\n",
       "</table>\n",
       "</div>"
      ],
      "text/plain": [
       "   type                                              posts\n",
       "0  ISTP  '288970 It's been a while, guys. Also I bleach...\n",
       "1  INFP  'Hmm 15 facts about myself...  1. Reading is m...\n",
       "2  ENFP  'Oh I have an INFJ friend. His eyes kinda ligh...\n",
       "3  INTP  'Okay, I'm a total INTP all across the board. ...\n",
       "4  ENTP  'Aaaaan...  I got the perfect solution stronge..."
      ]
     },
     "execution_count": 3,
     "metadata": {},
     "output_type": "execute_result"
    }
   ],
   "source": [
    "df_train = df_train[['type', 'posts']]\n",
    "df_train.head()"
   ]
  },
  {
   "cell_type": "code",
   "execution_count": 4,
   "id": "6035ca53",
   "metadata": {},
   "outputs": [
    {
     "data": {
      "text/html": [
       "<div>\n",
       "<style scoped>\n",
       "    .dataframe tbody tr th:only-of-type {\n",
       "        vertical-align: middle;\n",
       "    }\n",
       "\n",
       "    .dataframe tbody tr th {\n",
       "        vertical-align: top;\n",
       "    }\n",
       "\n",
       "    .dataframe thead th {\n",
       "        text-align: right;\n",
       "    }\n",
       "</style>\n",
       "<table border=\"1\" class=\"dataframe\">\n",
       "  <thead>\n",
       "    <tr style=\"text-align: right;\">\n",
       "      <th></th>\n",
       "      <th>type</th>\n",
       "      <th>posts</th>\n",
       "    </tr>\n",
       "  </thead>\n",
       "  <tbody>\n",
       "    <tr>\n",
       "      <th>0</th>\n",
       "      <td>INTJ</td>\n",
       "      <td>'If you ever meet someone you get along with i...</td>\n",
       "    </tr>\n",
       "    <tr>\n",
       "      <th>1</th>\n",
       "      <td>INFP</td>\n",
       "      <td>'It'd be a fearsome thing to behold! First of ...</td>\n",
       "    </tr>\n",
       "    <tr>\n",
       "      <th>2</th>\n",
       "      <td>INTP</td>\n",
       "      <td>'what's this?|||There is a site that I go on e...</td>\n",
       "    </tr>\n",
       "    <tr>\n",
       "      <th>3</th>\n",
       "      <td>ENFJ</td>\n",
       "      <td>'And he told me he is listeniby to the album h...</td>\n",
       "    </tr>\n",
       "    <tr>\n",
       "      <th>4</th>\n",
       "      <td>ENFP</td>\n",
       "      <td>'deurmecara  Welcome fellow ENFP!! CONGRADULAT...</td>\n",
       "    </tr>\n",
       "  </tbody>\n",
       "</table>\n",
       "</div>"
      ],
      "text/plain": [
       "   type                                              posts\n",
       "0  INTJ  'If you ever meet someone you get along with i...\n",
       "1  INFP  'It'd be a fearsome thing to behold! First of ...\n",
       "2  INTP  'what's this?|||There is a site that I go on e...\n",
       "3  ENFJ  'And he told me he is listeniby to the album h...\n",
       "4  ENFP  'deurmecara  Welcome fellow ENFP!! CONGRADULAT..."
      ]
     },
     "execution_count": 4,
     "metadata": {},
     "output_type": "execute_result"
    }
   ],
   "source": [
    "df_test = df_test[['type', 'posts']]\n",
    "df_test.head()"
   ]
  },
  {
   "cell_type": "code",
   "execution_count": 5,
   "id": "375d1907",
   "metadata": {},
   "outputs": [],
   "source": [
    "def clean_text(df, col):\n",
    "    from string import punctuation\n",
    "    df = df.copy()\n",
    "    porter_stemmer = PorterStemmer()\n",
    "    return df[col].apply(lambda x: re.sub('[^A-Za-z0-9]+', ' ', x.lower()))\\\n",
    "                  .apply(lambda x: re.sub('\\s+', ' ', x).strip())"
   ]
  },
  {
   "cell_type": "code",
   "execution_count": 6,
   "id": "c8bd2dbf",
   "metadata": {},
   "outputs": [],
   "source": [
    "from nltk.stem.porter import PorterStemmer\n",
    "import re"
   ]
  },
  {
   "cell_type": "code",
   "execution_count": 7,
   "id": "222fb78f",
   "metadata": {},
   "outputs": [],
   "source": [
    "df_train['text_clean'] = clean_text(df_train, 'posts')\n",
    "df_test['text_clean'] = clean_text(df_test, 'posts')\n",
    "del df_train['posts']\n",
    "del df_test['posts']"
   ]
  },
  {
   "cell_type": "code",
   "execution_count": 8,
   "id": "97cdaf3c",
   "metadata": {},
   "outputs": [],
   "source": [
    "train_arr=df_train['text_clean'].tolist()\n",
    "test_arr=df_test['text_clean'].tolist()\n",
    "train_lbl = df_train['type'].tolist()\n",
    "test_lbl = df_test['type'].tolist()"
   ]
  },
  {
   "cell_type": "code",
   "execution_count": 9,
   "id": "9797e142",
   "metadata": {},
   "outputs": [],
   "source": [
    "from sklearn.feature_extraction.text import CountVectorizer, TfidfTransformer"
   ]
  },
  {
   "cell_type": "code",
   "execution_count": 10,
   "id": "1390cc10",
   "metadata": {},
   "outputs": [
    {
     "name": "stdout",
     "output_type": "stream",
     "text": [
      "(8257, 143389)\n",
      "(84, 143389)\n"
     ]
    }
   ],
   "source": [
    "vectorizer = CountVectorizer()\n",
    "vectorizer.fit(train_arr)\n",
    "train_mat = vectorizer.transform(train_arr)\n",
    "print (train_mat.shape)\n",
    "test_mat = vectorizer.transform(test_arr)\n",
    "print (test_mat.shape)"
   ]
  },
  {
   "cell_type": "code",
   "execution_count": 11,
   "id": "99c668ff",
   "metadata": {},
   "outputs": [
    {
     "name": "stdout",
     "output_type": "stream",
     "text": [
      "(8257, 143389)\n",
      "(84, 143389)\n"
     ]
    }
   ],
   "source": [
    "tfidf = TfidfTransformer()\n",
    "tfidf.fit(train_mat)\n",
    "train_tfmat = tfidf.transform(train_mat)\n",
    "print (train_tfmat.shape)\n",
    "test_tfmat = tfidf.transform(test_mat)\n",
    "print (test_tfmat.shape)"
   ]
  },
  {
   "cell_type": "code",
   "execution_count": 12,
   "id": "2b469903",
   "metadata": {},
   "outputs": [],
   "source": [
    "del train_arr\n",
    "del test_arr"
   ]
  },
  {
   "cell_type": "code",
   "execution_count": 13,
   "id": "201d82b3",
   "metadata": {},
   "outputs": [],
   "source": [
    "from sklearn.naive_bayes import BernoulliNB, GaussianNB, MultinomialNB\n",
    "from pprint import pprint\n",
    "import matplotlib.pyplot as plt\n",
    "import itertools\n",
    "from sklearn.metrics import confusion_matrix,accuracy_score\n",
    "\n",
    "import numpy as np\n"
   ]
  },
  {
   "cell_type": "code",
   "execution_count": 14,
   "id": "c4abbdf5",
   "metadata": {},
   "outputs": [],
   "source": [
    "def plot_confusion_matrix(cm, classes,\n",
    "                          normalize=False,\n",
    "                          title='Confusion matrix',\n",
    "                          cmap=plt.cm.Reds):\n",
    "\n",
    "    plt.imshow(cm, interpolation='nearest', cmap=cmap)\n",
    "    plt.title(title)\n",
    "    plt.colorbar()\n",
    "    tick_marks = np.arange(len(classes))\n",
    "    plt.xticks(tick_marks, classes, rotation=90)\n",
    "    plt.yticks(tick_marks, classes)\n",
    "\n",
    "    print(cm)\n",
    "\n",
    "    thresh = cm.max() / 2.\n",
    "    for i, j in itertools.product(range(cm.shape[0]), range(cm.shape[1])):\n",
    "        plt.text(j, i, cm[i, j],\n",
    "                 horizontalalignment=\"center\",\n",
    "                 color=\"white\" if cm[i, j] > thresh else \"black\")\n",
    "\n",
    "    plt.tight_layout()\n",
    "    plt.ylabel('True label')\n",
    "    plt.xlabel('Predicted label')"
   ]
  },
  {
   "cell_type": "markdown",
   "id": "12cef298",
   "metadata": {},
   "source": [
    "# Nave Bayes"
   ]
  },
  {
   "cell_type": "code",
   "execution_count": 15,
   "id": "7c1340a9",
   "metadata": {},
   "outputs": [
    {
     "name": "stdout",
     "output_type": "stream",
     "text": [
      "Bernoulli accuracy score\n",
      "0.2857142857142857\n"
     ]
    }
   ],
   "source": [
    "bnb= BernoulliNB()\n",
    "#fitting\n",
    "bnb.fit(train_tfmat, train_lbl)\n",
    "#ypred\n",
    "ypredBnb = bnb.predict(test_tfmat)\n",
    "print ('Bernoulli accuracy score')\n",
    "print (accuracy_score(test_lbl, ypredBnb))"
   ]
  },
  {
   "cell_type": "code",
   "execution_count": 16,
   "id": "0027bd1e",
   "metadata": {},
   "outputs": [
    {
     "name": "stdout",
     "output_type": "stream",
     "text": [
      "Multinomial accuracy score\n",
      "0.21428571428571427\n"
     ]
    }
   ],
   "source": [
    "mnb=MultinomialNB()\n",
    "#fitting\n",
    "mnb.fit(train_tfmat, train_lbl)\n",
    "ypredMnb = mnb.predict(test_tfmat)\n",
    "print ('Multinomial accuracy score')\n",
    "print (accuracy_score(test_lbl, ypredMnb))"
   ]
  },
  {
   "cell_type": "markdown",
   "id": "05da010f",
   "metadata": {},
   "source": [
    "# SVM"
   ]
  },
  {
   "cell_type": "code",
   "execution_count": 17,
   "id": "78103982",
   "metadata": {},
   "outputs": [],
   "source": [
    "from sklearn.svm import LinearSVC, NuSVC, SVC"
   ]
  },
  {
   "cell_type": "code",
   "execution_count": 18,
   "id": "788292d4",
   "metadata": {},
   "outputs": [],
   "source": [
    "lsvm= LinearSVC()\n",
    "\n",
    "#fitting\n",
    "lsvm.fit(train_tfmat, train_lbl)\n",
    "\n",
    "#ypred\n",
    "ypredLsvm = lsvm.predict(test_tfmat)"
   ]
  },
  {
   "cell_type": "code",
   "execution_count": 20,
   "id": "0d0dee8c",
   "metadata": {},
   "outputs": [
    {
     "name": "stdout",
     "output_type": "stream",
     "text": [
      "Linear Svm accuracy score\n",
      "0.6785714285714286\n"
     ]
    }
   ],
   "source": [
    "print ('Linear Svm accuracy score')\n",
    "print (accuracy_score(test_lbl, ypredLsvm))"
   ]
  },
  {
   "cell_type": "code",
   "execution_count": null,
   "id": "57eec19f",
   "metadata": {},
   "outputs": [],
   "source": []
  }
 ],
 "metadata": {
  "kernelspec": {
   "display_name": "Python 3",
   "language": "python",
   "name": "python3"
  },
  "language_info": {
   "codemirror_mode": {
    "name": "ipython",
    "version": 3
   },
   "file_extension": ".py",
   "mimetype": "text/x-python",
   "name": "python",
   "nbconvert_exporter": "python",
   "pygments_lexer": "ipython3",
   "version": "3.8.8"
  }
 },
 "nbformat": 4,
 "nbformat_minor": 5
}
